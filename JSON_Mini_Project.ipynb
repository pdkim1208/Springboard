{
 "cells": [
  {
   "cell_type": "code",
   "execution_count": 192,
   "metadata": {},
   "outputs": [
    {
     "name": "stdout",
     "output_type": "stream",
     "text": [
      "People's Republic of China         19\n",
      "Republic of Indonesia              19\n",
      "Socialist Republic of Vietnam      17\n",
      "Republic of India                  16\n",
      "Republic of Yemen                  13\n",
      "Nepal                              12\n",
      "Kingdom of Morocco                 12\n",
      "People's Republic of Bangladesh    12\n",
      "Republic of Mozambique             11\n",
      "Africa                             11\n",
      "Name: countryname, dtype: int64\n"
     ]
    }
   ],
   "source": [
    "import pandas as pd\n",
    "import json\n",
    "from pandas.io.json import json_normalize\n",
    "import copy\n",
    "\n",
    "data = 'world_bank_projects.json'\n",
    "json_df1 = pd.read_json(data)\n",
    "json_df4 = json_df1.copy()\n",
    "\n",
    "#Solution to first question of finding most common country using value_counts()\n",
    "most_common_country = json_df1['countryname'].value_counts()\n",
    "\n",
    "print(most_common_country.head(10))\n"
   ]
  },
  {
   "cell_type": "code",
   "execution_count": 178,
   "metadata": {},
   "outputs": [
    {
     "name": "stdout",
     "output_type": "stream",
     "text": [
      "Environment and natural resources management    223\n",
      "Rural development                               202\n",
      "Human development                               197\n",
      "Public sector governance                        184\n",
      "Social protection and risk management           158\n",
      "Financial and private sector development        130\n",
      "                                                122\n",
      "Social dev/gender/inclusion                     119\n",
      "Trade and integration                            72\n",
      "Urban development                                47\n",
      "Name: name, dtype: int64\n"
     ]
    }
   ],
   "source": [
    "#empty list to house all dictionaries from json_df['mjtheme_namecode']\n",
    "new_list = []\n",
    "new_df = pd.DataFrame()\n",
    "\n",
    "#extract each dictionary and append to new_list\n",
    "for row in json_df1['mjtheme_namecode']:\n",
    "    for element in row:\n",
    "        new_list.append(element)\n",
    "\n",
    "        \n",
    "#create dataframe grouped by code\n",
    "new_list3 = json_normalize(new_list)\n",
    "new_list3.groupby(by = 'code')\n",
    "\n",
    "    \n",
    "#find the names of top 10 projects\n",
    "new_df_valuecounts = new_list3['name'].value_counts()\n",
    "\n",
    "print(new_df_valuecounts.head(10))"
   ]
  },
  {
   "cell_type": "code",
   "execution_count": 193,
   "metadata": {},
   "outputs": [
    {
     "name": "stdout",
     "output_type": "stream",
     "text": [
      "[{'code': '8', 'name': 'Human development'}, {'code': '11', 'name': 'Environment and natural resources management'}]\n"
     ]
    }
   ],
   "source": [
    "#create lookup table by dropping empty strings and duplicates\n",
    "emptystrings = new_list3['name'] != ''\n",
    "lookup_table = new_list3[emptystrings].drop_duplicates()\n",
    "lookup_table = lookup_table.set_index('code')\n",
    "lookup_table.index = lookup_table.index.astype(int)\n",
    "\n",
    "#iterate through each dictionary to fill in values from lookup table\n",
    "for row in json_df4['mjtheme_namecode']:\n",
    "    for element in row:\n",
    "        if str(element['name']) != '':\n",
    "            next\n",
    "        else:\n",
    "            x = int(element['code'])\n",
    "            #keep format similar by having apostrophes around string value\n",
    "            string_value = str(lookup_table.loc[x, 'name'])\n",
    "            element['name'] = string_value\n",
    "\n",
    "#Since second dictionary in first row has an empty 'name' value, we can print the first row to check if it worked\n",
    "print(json_df4['mjtheme_namecode'][0])\n",
    "\n"
   ]
  },
  {
   "cell_type": "code",
   "execution_count": null,
   "metadata": {
    "collapsed": true
   },
   "outputs": [],
   "source": []
  }
 ],
 "metadata": {
  "kernelspec": {
   "display_name": "Python 3",
   "language": "python",
   "name": "python3"
  },
  "language_info": {
   "codemirror_mode": {
    "name": "ipython",
    "version": 3
   },
   "file_extension": ".py",
   "mimetype": "text/x-python",
   "name": "python",
   "nbconvert_exporter": "python",
   "pygments_lexer": "ipython3",
   "version": "3.6.3"
  }
 },
 "nbformat": 4,
 "nbformat_minor": 2
}
