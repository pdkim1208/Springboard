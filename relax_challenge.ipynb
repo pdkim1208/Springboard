{
 "cells": [
  {
   "cell_type": "code",
   "execution_count": 1,
   "metadata": {},
   "outputs": [],
   "source": [
    "import pandas as pd\n",
    "import datetime as dt"
   ]
  },
  {
   "cell_type": "code",
   "execution_count": 2,
   "metadata": {},
   "outputs": [
    {
     "data": {
      "text/html": [
       "<div>\n",
       "<style scoped>\n",
       "    .dataframe tbody tr th:only-of-type {\n",
       "        vertical-align: middle;\n",
       "    }\n",
       "\n",
       "    .dataframe tbody tr th {\n",
       "        vertical-align: top;\n",
       "    }\n",
       "\n",
       "    .dataframe thead th {\n",
       "        text-align: right;\n",
       "    }\n",
       "</style>\n",
       "<table border=\"1\" class=\"dataframe\">\n",
       "  <thead>\n",
       "    <tr style=\"text-align: right;\">\n",
       "      <th></th>\n",
       "      <th>time_stamp</th>\n",
       "      <th>user_id</th>\n",
       "      <th>visited</th>\n",
       "    </tr>\n",
       "  </thead>\n",
       "  <tbody>\n",
       "    <tr>\n",
       "      <th>0</th>\n",
       "      <td>2014-04-22 03:53:30</td>\n",
       "      <td>1</td>\n",
       "      <td>1</td>\n",
       "    </tr>\n",
       "    <tr>\n",
       "      <th>1</th>\n",
       "      <td>2013-11-15 03:45:04</td>\n",
       "      <td>2</td>\n",
       "      <td>1</td>\n",
       "    </tr>\n",
       "    <tr>\n",
       "      <th>2</th>\n",
       "      <td>2013-11-29 03:45:04</td>\n",
       "      <td>2</td>\n",
       "      <td>1</td>\n",
       "    </tr>\n",
       "    <tr>\n",
       "      <th>3</th>\n",
       "      <td>2013-12-09 03:45:04</td>\n",
       "      <td>2</td>\n",
       "      <td>1</td>\n",
       "    </tr>\n",
       "    <tr>\n",
       "      <th>4</th>\n",
       "      <td>2013-12-25 03:45:04</td>\n",
       "      <td>2</td>\n",
       "      <td>1</td>\n",
       "    </tr>\n",
       "  </tbody>\n",
       "</table>\n",
       "</div>"
      ],
      "text/plain": [
       "           time_stamp  user_id  visited\n",
       "0 2014-04-22 03:53:30        1        1\n",
       "1 2013-11-15 03:45:04        2        1\n",
       "2 2013-11-29 03:45:04        2        1\n",
       "3 2013-12-09 03:45:04        2        1\n",
       "4 2013-12-25 03:45:04        2        1"
      ]
     },
     "execution_count": 2,
     "metadata": {},
     "output_type": "execute_result"
    }
   ],
   "source": [
    "#import engagement data\n",
    "engagement = pd.read_csv('takehome_user_engagement.csv', parse_dates = ['time_stamp'])\n",
    "\n",
    "engagement.head()"
   ]
  },
  {
   "cell_type": "code",
   "execution_count": 3,
   "metadata": {},
   "outputs": [
    {
     "data": {
      "text/html": [
       "<div>\n",
       "<style scoped>\n",
       "    .dataframe tbody tr th:only-of-type {\n",
       "        vertical-align: middle;\n",
       "    }\n",
       "\n",
       "    .dataframe tbody tr th {\n",
       "        vertical-align: top;\n",
       "    }\n",
       "\n",
       "    .dataframe thead th {\n",
       "        text-align: right;\n",
       "    }\n",
       "</style>\n",
       "<table border=\"1\" class=\"dataframe\">\n",
       "  <thead>\n",
       "    <tr style=\"text-align: right;\">\n",
       "      <th></th>\n",
       "      <th>user_id</th>\n",
       "      <th>creation_time</th>\n",
       "      <th>name</th>\n",
       "      <th>email</th>\n",
       "      <th>creation_source</th>\n",
       "      <th>last_session_creation_time</th>\n",
       "      <th>opted_in_to_mailing_list</th>\n",
       "      <th>enabled_for_marketing_drip</th>\n",
       "      <th>org_id</th>\n",
       "      <th>invited_by_user_id</th>\n",
       "    </tr>\n",
       "  </thead>\n",
       "  <tbody>\n",
       "    <tr>\n",
       "      <th>0</th>\n",
       "      <td>1</td>\n",
       "      <td>2014-04-22 03:53:30</td>\n",
       "      <td>Clausen August</td>\n",
       "      <td>AugustCClausen@yahoo.com</td>\n",
       "      <td>GUEST_INVITE</td>\n",
       "      <td>1.398139e+09</td>\n",
       "      <td>1</td>\n",
       "      <td>0</td>\n",
       "      <td>11</td>\n",
       "      <td>10803.0</td>\n",
       "    </tr>\n",
       "    <tr>\n",
       "      <th>1</th>\n",
       "      <td>2</td>\n",
       "      <td>2013-11-15 03:45:04</td>\n",
       "      <td>Poole Matthew</td>\n",
       "      <td>MatthewPoole@gustr.com</td>\n",
       "      <td>ORG_INVITE</td>\n",
       "      <td>1.396238e+09</td>\n",
       "      <td>0</td>\n",
       "      <td>0</td>\n",
       "      <td>1</td>\n",
       "      <td>316.0</td>\n",
       "    </tr>\n",
       "    <tr>\n",
       "      <th>2</th>\n",
       "      <td>3</td>\n",
       "      <td>2013-03-19 23:14:52</td>\n",
       "      <td>Bottrill Mitchell</td>\n",
       "      <td>MitchellBottrill@gustr.com</td>\n",
       "      <td>ORG_INVITE</td>\n",
       "      <td>1.363735e+09</td>\n",
       "      <td>0</td>\n",
       "      <td>0</td>\n",
       "      <td>94</td>\n",
       "      <td>1525.0</td>\n",
       "    </tr>\n",
       "    <tr>\n",
       "      <th>3</th>\n",
       "      <td>4</td>\n",
       "      <td>2013-05-21 08:09:28</td>\n",
       "      <td>Clausen Nicklas</td>\n",
       "      <td>NicklasSClausen@yahoo.com</td>\n",
       "      <td>GUEST_INVITE</td>\n",
       "      <td>1.369210e+09</td>\n",
       "      <td>0</td>\n",
       "      <td>0</td>\n",
       "      <td>1</td>\n",
       "      <td>5151.0</td>\n",
       "    </tr>\n",
       "    <tr>\n",
       "      <th>4</th>\n",
       "      <td>5</td>\n",
       "      <td>2013-01-17 10:14:20</td>\n",
       "      <td>Raw Grace</td>\n",
       "      <td>GraceRaw@yahoo.com</td>\n",
       "      <td>GUEST_INVITE</td>\n",
       "      <td>1.358850e+09</td>\n",
       "      <td>0</td>\n",
       "      <td>0</td>\n",
       "      <td>193</td>\n",
       "      <td>5240.0</td>\n",
       "    </tr>\n",
       "  </tbody>\n",
       "</table>\n",
       "</div>"
      ],
      "text/plain": [
       "   user_id        creation_time               name  \\\n",
       "0        1  2014-04-22 03:53:30     Clausen August   \n",
       "1        2  2013-11-15 03:45:04      Poole Matthew   \n",
       "2        3  2013-03-19 23:14:52  Bottrill Mitchell   \n",
       "3        4  2013-05-21 08:09:28    Clausen Nicklas   \n",
       "4        5  2013-01-17 10:14:20          Raw Grace   \n",
       "\n",
       "                        email creation_source  last_session_creation_time  \\\n",
       "0    AugustCClausen@yahoo.com    GUEST_INVITE                1.398139e+09   \n",
       "1      MatthewPoole@gustr.com      ORG_INVITE                1.396238e+09   \n",
       "2  MitchellBottrill@gustr.com      ORG_INVITE                1.363735e+09   \n",
       "3   NicklasSClausen@yahoo.com    GUEST_INVITE                1.369210e+09   \n",
       "4          GraceRaw@yahoo.com    GUEST_INVITE                1.358850e+09   \n",
       "\n",
       "   opted_in_to_mailing_list  enabled_for_marketing_drip  org_id  \\\n",
       "0                         1                           0      11   \n",
       "1                         0                           0       1   \n",
       "2                         0                           0      94   \n",
       "3                         0                           0       1   \n",
       "4                         0                           0     193   \n",
       "\n",
       "   invited_by_user_id  \n",
       "0             10803.0  \n",
       "1               316.0  \n",
       "2              1525.0  \n",
       "3              5151.0  \n",
       "4              5240.0  "
      ]
     },
     "execution_count": 3,
     "metadata": {},
     "output_type": "execute_result"
    }
   ],
   "source": [
    "#Import users and rename object_id to user_id\n",
    "users = pd.read_csv('takehome_users.csv', encoding = 'latin-1')\n",
    "users = users.rename(columns={'object_id': 'user_id'})\n",
    "users.head()"
   ]
  },
  {
   "cell_type": "code",
   "execution_count": 4,
   "metadata": {},
   "outputs": [],
   "source": [
    "#Assign numerical value for week to make comparison easier\n",
    "engagement['week'] = engagement['time_stamp'].dt.week"
   ]
  },
  {
   "cell_type": "code",
   "execution_count": 5,
   "metadata": {},
   "outputs": [
    {
     "data": {
      "text/plain": [
       "week  user_id\n",
       "1     2          1\n",
       "      10         5\n",
       "      42         4\n",
       "      43         1\n",
       "      46         1\n",
       "Name: time_stamp, dtype: int64"
      ]
     },
     "execution_count": 5,
     "metadata": {},
     "output_type": "execute_result"
    }
   ],
   "source": [
    "#Groupby week and user_id so we can count frequencies\n",
    "engagement = engagement.groupby(['week', 'user_id'])['time_stamp'].count()\n",
    "\n",
    "engagement.head()"
   ]
  },
  {
   "cell_type": "code",
   "execution_count": 6,
   "metadata": {},
   "outputs": [
    {
     "data": {
      "text/html": [
       "<div>\n",
       "<style scoped>\n",
       "    .dataframe tbody tr th:only-of-type {\n",
       "        vertical-align: middle;\n",
       "    }\n",
       "\n",
       "    .dataframe tbody tr th {\n",
       "        vertical-align: top;\n",
       "    }\n",
       "\n",
       "    .dataframe thead th {\n",
       "        text-align: right;\n",
       "    }\n",
       "</style>\n",
       "<table border=\"1\" class=\"dataframe\">\n",
       "  <thead>\n",
       "    <tr style=\"text-align: right;\">\n",
       "      <th></th>\n",
       "      <th>week</th>\n",
       "      <th>user_id</th>\n",
       "      <th>freq</th>\n",
       "    </tr>\n",
       "  </thead>\n",
       "  <tbody>\n",
       "    <tr>\n",
       "      <th>0</th>\n",
       "      <td>1</td>\n",
       "      <td>2</td>\n",
       "      <td>1</td>\n",
       "    </tr>\n",
       "    <tr>\n",
       "      <th>1</th>\n",
       "      <td>1</td>\n",
       "      <td>10</td>\n",
       "      <td>5</td>\n",
       "    </tr>\n",
       "    <tr>\n",
       "      <th>2</th>\n",
       "      <td>1</td>\n",
       "      <td>42</td>\n",
       "      <td>4</td>\n",
       "    </tr>\n",
       "    <tr>\n",
       "      <th>3</th>\n",
       "      <td>1</td>\n",
       "      <td>43</td>\n",
       "      <td>1</td>\n",
       "    </tr>\n",
       "    <tr>\n",
       "      <th>4</th>\n",
       "      <td>1</td>\n",
       "      <td>46</td>\n",
       "      <td>1</td>\n",
       "    </tr>\n",
       "  </tbody>\n",
       "</table>\n",
       "</div>"
      ],
      "text/plain": [
       "   week  user_id  freq\n",
       "0     1        2     1\n",
       "1     1       10     5\n",
       "2     1       42     4\n",
       "3     1       43     1\n",
       "4     1       46     1"
      ]
     },
     "execution_count": 6,
     "metadata": {},
     "output_type": "execute_result"
    }
   ],
   "source": [
    "engagement = engagement.reset_index(name='freq')\n",
    "engagement.head()"
   ]
  },
  {
   "cell_type": "code",
   "execution_count": 7,
   "metadata": {},
   "outputs": [
    {
     "name": "stdout",
     "output_type": "stream",
     "text": [
      "[10, 42, 63, 69, 81, 82, 87, 146, 153, 160, 168, 197, 202, 203, 209, 230, 245, 263, 297, 310, 322, 445, 471, 483, 509, 510, 529, 535, 553, 564, 603, 605, 639, 669, 679, 680, 724, 728, 754, 772, 783, 804, 845, 882, 885, 901, 906, 912, 934, 937, 943, 980, 1017, 1018, 1027, 1055, 1061, 1072, 1094, 1099, 1128, 1129, 1155, 1196, 1202, 1280, 1320, 1339, 1343, 1345, 1350, 1357, 1368, 1407, 1411, 1421, 1434, 1464, 1472, 1476, 1479, 1485, 1507, 1576, 1617, 1624, 1665, 1693, 1709, 1730, 1754, 1769, 1781, 1783, 1786, 1811, 1821, 1822, 1836, 1865, 1879, 1885, 1941, 2002, 2011, 2013, 2033, 2042, 2074, 2078, 2080, 2103, 2113, 2159, 2171, 2193, 2246, 2253, 2270, 2271, 2286, 2289, 2300, 2316, 2324, 2333, 2339, 2390, 2406, 2425, 2447, 2474, 2490, 2502, 2519, 2539, 2548, 2557, 2566, 2568, 2571, 2604, 2620, 2622, 2647, 2658, 2672, 2723, 2727, 2739, 2744, 2771, 2809, 2832, 2881, 2889, 2895, 2915, 2939, 2979, 3017, 3028, 3032, 3039, 3066, 3067, 3087, 3093, 3112, 3113, 3137, 3139, 3160, 3175, 3180, 3185, 3193, 3204, 3217, 3226, 3239, 3244, 3269, 3339, 3353, 3389, 3397, 3405, 3411, 3451, 3463, 3525, 3531, 3546, 3556, 3560, 3561, 3574, 3577, 3609, 3623, 3642, 3644, 3671, 3673, 3675, 3705, 3718, 3774, 3812, 3819, 3824, 3843, 3863, 3867, 3882, 3946, 3957, 3960, 4017, 4019, 4022, 4029, 4045, 4086, 4090, 4105, 4143, 4145, 4181, 4186, 4209, 4217, 4223, 4234, 4243, 4244, 4248, 4263, 4269, 4278, 4282, 4295, 4317, 4335, 4354, 4371, 4402, 4421, 4428, 4444, 4472, 4481, 4485, 4489, 4497, 4560, 4565, 4569, 4612, 4616, 4618, 4619, 4625, 4713, 4742, 4745, 4780, 4785, 4793, 4803, 4805, 4812, 4835, 4837, 4884, 4915, 4924, 4934, 4943, 4965, 5013, 5015, 5057, 5067, 5071, 5073, 5101, 5115, 5151, 5200, 5210, 5240, 5259, 5281, 5297, 5307, 5329, 5350, 5360, 5362, 5364, 5365, 5378, 5386, 5415, 5426, 5494, 5507, 5514, 5547, 5551, 5552, 5579, 5609, 5677, 5681, 5682, 5685, 5705, 5714, 5718, 5721, 5828, 5830, 5840, 5861, 5927, 5939, 5965, 6033, 6050, 6064, 6070, 6135, 6171, 6187, 6204, 6210, 6246, 6266, 6282, 6284, 6312, 6321, 6322, 6370, 6388, 6405, 6416, 6438, 6464, 6504, 6506, 6517, 6532, 6590, 6609, 6623, 6633, 6729, 6741, 6742, 6757, 6786, 6856, 6865, 6870, 6909, 6914, 6938, 6966, 6978, 6988, 7019, 7023, 7029, 7101, 7107, 7114, 7120, 7131, 7153, 7194, 7209, 7210, 7248, 7257, 7375, 7401, 7431, 7436, 7443, 7511, 7536, 7556, 7572, 7590, 7600, 7608, 7641, 7644, 7678, 7683, 7688, 7691, 7707, 7720, 7772, 7789, 7798, 7818, 7839, 7878, 7899, 7926, 7971, 7979, 8025, 8029, 8031, 8033, 8048, 8068, 8069, 8104, 8159, 8196, 8221, 8235, 8243, 8259, 8280, 8297, 8310, 8348, 8381, 8399, 8403, 8426, 8507, 8538, 8553, 8602, 8622, 8640, 8654, 8673, 8679, 8701, 8706, 8708, 8721, 8760, 8767, 8768, 8770, 8789, 8803, 8811, 8835, 8869, 8912, 8924, 8944, 8945, 8955, 9011, 9031, 9042, 9046, 9076, 9083, 9113, 9120, 9147, 9164, 9281, 9286, 9303, 9306, 9312, 9322, 9325, 9345, 9346, 9358, 9381, 9383, 9400, 9402, 9434, 9450, 9461, 9464, 9470, 9532, 9535, 9540, 9558, 9559, 9582, 9584, 9591, 9597, 9601, 9615, 9641, 9645, 9660, 9691, 9694, 9722, 9724, 9728, 9746, 9747, 9751, 9754, 9771, 9806, 9841, 9889, 9901, 9958, 9968, 9985, 9991, 10022, 10023, 10059, 10100, 10104, 10153, 10159, 10177, 10199, 10211, 10222, 10225, 10233, 10238, 10258, 10265, 10283, 10307, 10311, 10320, 10349, 10352, 10388, 10447, 10470, 10497, 10524, 10526, 10599, 10602, 10611, 10630, 10647, 10656, 10734, 10745, 10750, 10757, 10763, 10791, 10827, 10834, 10840, 10866, 10953, 10961, 11015, 11021, 11024, 11032, 11039, 11061, 11083, 11160, 11170, 11186, 11195, 11223, 11240, 11267, 11273, 11300, 11306, 11310, 11320, 11349, 11379, 11423, 11428, 11450, 11469, 11527, 11530, 11559, 11573, 11622, 11642, 11683, 11688, 11702, 11730, 11762, 11796, 11801, 11806, 11823, 11836, 11873, 11895, 11909, 11920, 11958, 11975, 200, 247, 283, 430, 512, 522, 618, 851, 928, 1009, 1508, 1663, 1770, 1825, 1944, 1954, 1974, 2312, 2337, 2435, 2544, 2841, 2891, 2974, 2993, 3163, 3232, 3436, 3481, 3541, 3562, 3612, 3652, 3758, 3832, 3906, 4140, 4141, 4184, 4206, 4216, 4403, 4571, 4844, 4876, 4886, 4950, 5063, 5301, 5369, 5407, 5463, 5479, 5483, 5586, 6126, 6148, 6242, 6279, 6393, 6463, 6638, 6733, 6835, 6862, 7071, 7104, 7205, 7386, 7624, 7682, 8010, 8037, 8071, 8091, 8166, 8214, 8220, 8689, 8695, 8749, 9089, 9423, 9679, 9823, 9825, 9925, 9947, 9972, 10357, 10401, 10580, 10621, 10663, 10812, 10876, 10913, 10945, 11056, 11065, 11198, 11254, 11270, 11415, 11519, 11541, 11758, 11957, 11964, 11969, 298, 370, 450, 462, 497, 869, 907, 932, 1089, 1156, 1163, 1274, 1290, 1318, 1327, 1694, 2199, 2357, 2587, 2641, 2762, 2931, 3071, 3360, 3370, 3522, 3915, 4330, 4609, 5211, 5560, 5571, 5892, 5900, 5918, 5950, 6103, 6134, 6238, 6342, 6851, 6895, 7405, 7705, 7813, 7820, 7905, 8101, 8191, 8192, 8408, 8725, 8857, 9142, 9436, 9635, 9845, 9914, 9992, 10011, 10339, 10459, 10514, 10619, 11067, 11212, 11294, 11404, 11728, 11857, 11924, 11959, 341, 786, 1379, 2618, 3493, 3970, 4074, 4558, 4974, 5600, 5645, 5663, 5977, 6462, 6654, 7004, 7074, 7111, 7378, 7518, 7697, 8294, 8334, 8493, 8862, 9112, 9852, 9994, 10212, 10246, 10644, 10753, 10787, 10832, 10851, 11206, 11570, 11596, 133, 214, 469, 632, 1124, 1480, 2025, 2038, 2239, 2481, 2626, 2969, 3598, 4404, 4784, 4954, 5157, 6239, 6810, 7380, 7398, 8311, 8779, 8837, 8932, 9390, 9479, 9504, 10230, 10303, 10316, 10394, 10430, 10473, 10507, 10582, 11003, 11176, 11263, 11591, 11732, 11782, 2, 1319, 1722, 1930, 2124, 2297, 2713, 3025, 3026, 3046, 3100, 3592, 4513, 5156, 5309, 5456, 5532, 5853, 6096, 6470, 6637, 6734, 6782, 7449, 7859, 7980, 8415, 9079, 9157, 9644, 9652, 9942, 10115, 10121, 10371, 10412, 10725, 10860, 11004, 11100, 11344, 11600, 53, 363, 1107, 2282, 2399, 2946, 3145, 3179, 3235, 3311, 4007, 4296, 4433, 4562, 4720, 4961, 5173, 5743, 5944, 6100, 7409, 7760, 8435, 8511, 8569, 9290, 9344, 9374, 9961, 10465, 10833, 11357, 11588, 74, 280, 311, 985, 1136, 1150, 1214, 1396, 3018, 3390, 3601, 3802, 4067, 4156, 4564, 5160, 5243, 5385, 5557, 5704, 5756, 5905, 6293, 6349, 7283, 7858, 8046, 8508, 8639, 9542, 10843, 10937, 11406, 11479, 11627, 11662, 11769, 11869, 135, 165, 492, 634, 874, 1173, 1250, 1740, 2731, 2859, 2870, 3387, 3426, 3484, 4041, 4218, 5847, 7544, 8319, 8595, 8615, 9060, 9477, 9897, 10244, 11347, 11537, 185, 401, 2043, 2322, 2836, 2921, 3076, 4009, 4203, 4511, 5666, 6152, 6217, 6232, 7805, 7848, 8070, 8217, 8383, 8523, 8884, 8899, 9195, 10118, 10617, 10696, 10737, 11112, 20, 43, 351, 1093, 2241, 2724, 2948, 3617, 3804, 4043, 4158, 4268, 5741, 6357, 6982, 7015, 8063, 8832, 8918, 8989, 9143, 9683, 11660, 11967, 33, 547, 1245, 2278, 2851, 4425, 5623, 5722, 5850, 6296, 6302, 6367, 6627, 7097, 8149, 8505, 8581, 9172, 9295, 9623, 9742, 9786, 9999, 10020, 10062, 10448, 10928, 11010, 11327, 11988, 953, 1235, 1410, 1716, 2160, 2400, 2681, 2843, 2887, 2952, 3081, 4576, 4870, 5127, 5441, 5993, 6401, 6731, 6771, 7555, 7951, 8130, 8571, 9941, 9963, 10006, 10281, 11599, 518, 572, 1690, 1759, 2056, 4258, 4350, 4969, 5100, 5777, 5832, 6016, 7587, 7774, 8394, 8860, 8957, 10322, 11805, 275, 494, 2290, 2361, 3080, 3338, 3409, 3597, 3956, 4106, 4208, 4388, 7198, 7873, 8084, 8111, 8440, 8593, 8952, 9445, 10679, 11036, 11314, 3593, 3866, 4182, 4384, 4494, 4826, 4832, 5103, 5726, 5806, 5960, 6751, 7475, 8075, 8134, 8463, 8712, 9850, 10437, 10708, 11738, 11841, 188, 383, 601, 2112, 2866, 5167, 5866, 6184, 6236, 7764, 7897, 9222, 10025, 10372, 10858, 11377, 11637, 11885, 80, 627, 1581, 1816, 2129, 3324, 3695, 3765, 4052, 4519, 4680, 5180, 5725, 6198, 6281, 7192, 7827, 8466, 8675, 9727, 9843, 10167, 10355, 10519, 10626, 10870, 10958, 11072, 11965, 628, 1186, 2438, 2615, 2750, 3752, 4018, 5215, 6108, 6971, 7242, 7403, 7450, 7786, 8880, 9495, 9684, 9948, 10332, 10434, 10585, 10911, 11421, 11902, 11913, 472, 1106, 1546, 1717, 3053, 3063, 6205, 6305, 6827, 7441, 7613, 8393, 8401, 8750, 9257, 9343, 9580, 10892, 11341, 11412, 305, 1145, 1151, 1242, 2049, 2569, 3014, 3280, 3578, 4349, 4611, 5027, 5655, 6285, 7156, 8161, 8704, 9359, 9670, 9768, 9974, 10002, 10367, 479, 540, 1007, 1233, 1555, 4561, 4854, 6992, 7868, 7927, 9870, 10746, 3749, 8137, 8460, 11533, 5915, 6688, 8864, 11764, 11773, 11939, 4778, 4869, 6866, 174, 1119, 1671, 1035, 1714, 3852, 4685, 7670, 9510, 10554, 11465, 3381, 4353, 7529, 7991, 11130, 1525, 4582, 7939, 10885, 3641, 5527, 6136, 6894, 8366, 10785, 1238, 2918, 3517, 8252, 10207, 1820, 10406, 11093, 1481, 2886, 6419, 7654, 8232, 10251, 2787, 3378, 7173, 7792, 8034, 9571, 10867, 418, 4992, 7351, 9435, 9699, 4839, 7920, 8278, 11144, 141, 2636, 6258, 7215, 8233, 9486, 10869, 589, 4921, 5516, 10053, 1872, 6427, 7882, 8601, 828, 2610, 3567, 5351, 6653, 6759, 7172, 8258, 11961, 1598, 8677, 9695, 9863, 3194, 4446, 9481, 1758, 265, 1361, 2857, 3125, 11593, 1506, 1561, 4093, 6114, 7538, 1013, 8277, 10299, 5638, 6993, 8809, 725, 4134, 10446, 10335]\n",
      "1445\n"
     ]
    }
   ],
   "source": [
    "frequencies = engagement[engagement.freq>=3]\n",
    "frequencies = frequencies[['user_id']]\n",
    "frequencies = frequencies.drop_duplicates()\n",
    "\n",
    "adopted = frequencies.user_id.tolist()\n",
    "\n",
    "print(adopted)\n",
    "print(len(adopted))"
   ]
  },
  {
   "cell_type": "code",
   "execution_count": 8,
   "metadata": {},
   "outputs": [
    {
     "data": {
      "text/html": [
       "<div>\n",
       "<style scoped>\n",
       "    .dataframe tbody tr th:only-of-type {\n",
       "        vertical-align: middle;\n",
       "    }\n",
       "\n",
       "    .dataframe tbody tr th {\n",
       "        vertical-align: top;\n",
       "    }\n",
       "\n",
       "    .dataframe thead th {\n",
       "        text-align: right;\n",
       "    }\n",
       "</style>\n",
       "<table border=\"1\" class=\"dataframe\">\n",
       "  <thead>\n",
       "    <tr style=\"text-align: right;\">\n",
       "      <th></th>\n",
       "      <th>user_id</th>\n",
       "      <th>adopted</th>\n",
       "    </tr>\n",
       "  </thead>\n",
       "  <tbody>\n",
       "    <tr>\n",
       "      <th>1</th>\n",
       "      <td>10</td>\n",
       "      <td>1</td>\n",
       "    </tr>\n",
       "    <tr>\n",
       "      <th>2</th>\n",
       "      <td>42</td>\n",
       "      <td>1</td>\n",
       "    </tr>\n",
       "    <tr>\n",
       "      <th>5</th>\n",
       "      <td>63</td>\n",
       "      <td>1</td>\n",
       "    </tr>\n",
       "    <tr>\n",
       "      <th>6</th>\n",
       "      <td>69</td>\n",
       "      <td>1</td>\n",
       "    </tr>\n",
       "    <tr>\n",
       "      <th>7</th>\n",
       "      <td>81</td>\n",
       "      <td>1</td>\n",
       "    </tr>\n",
       "  </tbody>\n",
       "</table>\n",
       "</div>"
      ],
      "text/plain": [
       "   user_id  adopted\n",
       "1       10        1\n",
       "2       42        1\n",
       "5       63        1\n",
       "6       69        1\n",
       "7       81        1"
      ]
     },
     "execution_count": 8,
     "metadata": {},
     "output_type": "execute_result"
    }
   ],
   "source": [
    "#Create column of 1's on frequencies, which we can use for ML prediction model. We can join this dataframe with users\n",
    "frequencies['adopted'] = 1\n",
    "frequencies.head()"
   ]
  },
  {
   "cell_type": "code",
   "execution_count": 9,
   "metadata": {},
   "outputs": [
    {
     "name": "stdout",
     "output_type": "stream",
     "text": [
      "<class 'pandas.core.frame.DataFrame'>\n",
      "Int64Index: 12000 entries, 0 to 11999\n",
      "Data columns (total 11 columns):\n",
      "user_id                       12000 non-null int64\n",
      "creation_time                 12000 non-null object\n",
      "name                          12000 non-null object\n",
      "email                         12000 non-null object\n",
      "creation_source               12000 non-null object\n",
      "last_session_creation_time    8823 non-null float64\n",
      "opted_in_to_mailing_list      12000 non-null int64\n",
      "enabled_for_marketing_drip    12000 non-null int64\n",
      "org_id                        12000 non-null int64\n",
      "invited_by_user_id            6417 non-null float64\n",
      "adopted                       1445 non-null float64\n",
      "dtypes: float64(3), int64(4), object(4)\n",
      "memory usage: 1.1+ MB\n"
     ]
    }
   ],
   "source": [
    "combined = users.merge(frequencies, how = 'outer', on = 'user_id')\n",
    "\n",
    "combined.info()"
   ]
  },
  {
   "cell_type": "code",
   "execution_count": 10,
   "metadata": {},
   "outputs": [
    {
     "data": {
      "text/plain": [
       "array([nan,  1.])"
      ]
     },
     "execution_count": 10,
     "metadata": {},
     "output_type": "execute_result"
    }
   ],
   "source": [
    "combined.adopted.unique()"
   ]
  },
  {
   "cell_type": "code",
   "execution_count": 11,
   "metadata": {},
   "outputs": [
    {
     "data": {
      "text/plain": [
       "array([0, 1])"
      ]
     },
     "execution_count": 11,
     "metadata": {},
     "output_type": "execute_result"
    }
   ],
   "source": [
    "#Change nan to 1 with method\n",
    "\n",
    "def change_nan(i):\n",
    "    if i == 1:\n",
    "        return 1\n",
    "    else:\n",
    "        return 0\n",
    "\n",
    "combined.adopted = combined.adopted.apply(change_nan)\n",
    "\n",
    "combined.adopted.unique()\n",
    "        \n",
    "\n"
   ]
  },
  {
   "cell_type": "code",
   "execution_count": 12,
   "metadata": {},
   "outputs": [
    {
     "data": {
      "text/plain": [
       "array([1, 0])"
      ]
     },
     "execution_count": 12,
     "metadata": {},
     "output_type": "execute_result"
    }
   ],
   "source": [
    "#Change values of creation_source and invited_by_user_id\n",
    "\n",
    "#since invited_by_user_id has null values, we want to make this column binary. 1 for people who were invited and 0 for people who weren't\n",
    "\n",
    "def user_id(i):\n",
    "    if i > 0:\n",
    "        return 1\n",
    "    else:\n",
    "        return 0\n",
    "    \n",
    "combined.invited_by_user_id = combined.invited_by_user_id.apply(user_id)\n",
    "combined.invited_by_user_id.unique()\n",
    "    "
   ]
  },
  {
   "cell_type": "code",
   "execution_count": 13,
   "metadata": {},
   "outputs": [
    {
     "data": {
      "text/plain": [
       "array(['GUEST_INVITE', 'ORG_INVITE', 'SIGNUP', 'PERSONAL_PROJECTS',\n",
       "       'SIGNUP_GOOGLE_AUTH'], dtype=object)"
      ]
     },
     "execution_count": 13,
     "metadata": {},
     "output_type": "execute_result"
    }
   ],
   "source": [
    "combined.creation_source.unique()"
   ]
  },
  {
   "cell_type": "code",
   "execution_count": 14,
   "metadata": {},
   "outputs": [],
   "source": [
    "#Create copy of combined for data analysis\n",
    "\n",
    "combined2 = combined.copy()"
   ]
  },
  {
   "cell_type": "code",
   "execution_count": 15,
   "metadata": {},
   "outputs": [
    {
     "data": {
      "text/plain": [
       "array([0, 1, 2, 3, 4])"
      ]
     },
     "execution_count": 15,
     "metadata": {},
     "output_type": "execute_result"
    }
   ],
   "source": [
    "#Assign numerical values to creation_source\n",
    "\n",
    "\n",
    "def creation(i):\n",
    "    if i == 'GUEST_INVITE':\n",
    "        return 0\n",
    "    elif i == 'ORG_INVITE':\n",
    "        return 1\n",
    "    elif i == 'SIGNUP':\n",
    "        return 2\n",
    "    elif i == 'PERSONAL_PROJECTS':\n",
    "        return 3\n",
    "    else:\n",
    "        return 4\n",
    "\n",
    "combined.creation_source = combined.creation_source.apply(creation)\n",
    "combined.creation_source.unique()"
   ]
  },
  {
   "cell_type": "code",
   "execution_count": 16,
   "metadata": {},
   "outputs": [],
   "source": [
    "#Implement Machine learning - Gradient Boosting and Random Forest\n",
    "\n",
    "from sklearn.ensemble import GradientBoostingClassifier\n",
    "from sklearn.ensemble import RandomForestClassifier\n",
    "from sklearn.model_selection import train_test_split\n",
    "\n",
    "\n",
    "def gbc(data):\n",
    "    X, Xtest, y, ytest = train_test_split(data[['creation_source', 'opted_in_to_mailing_list', 'enabled_for_marketing_drip', 'invited_by_user_id']], data.adopted.values, random_state=5, test_size = 0.2)\n",
    "    clf = GradientBoostingClassifier()\n",
    "    clf.fit(X, y)\n",
    "    print('Test score (Gradient Boosting): ' + str(clf.score(Xtest, ytest)))\n",
    "    print('Feature Importances (Gradient Boosting): ' + str(clf.feature_importances_))\n",
    "    \n",
    "    \n",
    "def rfc(data):\n",
    "    X, Xtest, y, ytest = train_test_split(data[['creation_source', 'opted_in_to_mailing_list', 'enabled_for_marketing_drip', 'invited_by_user_id']], data.adopted.values, random_state=5, test_size = 0.2)\n",
    "    clf = RandomForestClassifier()\n",
    "    clf.fit(X, y)\n",
    "    print('Test score (Random Forest): ' + str(clf.score(Xtest, ytest)))\n",
    "    print('Feature Importances (Random Forest): ' + str(clf.feature_importances_))"
   ]
  },
  {
   "cell_type": "code",
   "execution_count": 17,
   "metadata": {},
   "outputs": [
    {
     "name": "stdout",
     "output_type": "stream",
     "text": [
      "Test score (Gradient Boosting): 0.8783333333333333\n",
      "Feature Importances (Gradient Boosting): [0.35214155 0.24158144 0.37280517 0.03347185]\n"
     ]
    }
   ],
   "source": [
    "gbc(combined)"
   ]
  },
  {
   "cell_type": "code",
   "execution_count": 18,
   "metadata": {},
   "outputs": [
    {
     "name": "stdout",
     "output_type": "stream",
     "text": [
      "Test score (Random Forest): 0.8783333333333333\n",
      "Feature Importances (Random Forest): [0.70983872 0.10120953 0.10414239 0.08480937]\n"
     ]
    }
   ],
   "source": [
    "rfc(combined)"
   ]
  },
  {
   "cell_type": "markdown",
   "metadata": {},
   "source": [
    "We can see that invited_by_user_id has a very light weighting, so we can run the model again without it"
   ]
  },
  {
   "cell_type": "code",
   "execution_count": 19,
   "metadata": {},
   "outputs": [],
   "source": [
    "def gbc2(data):\n",
    "    X, Xtest, y, ytest = train_test_split(data[['creation_source', 'opted_in_to_mailing_list', 'enabled_for_marketing_drip']], data.adopted.values, random_state=5, test_size = 0.2)\n",
    "    clf = GradientBoostingClassifier()\n",
    "    clf.fit(X, y)\n",
    "    print('Test score (Gradient Boosting): ' + str(clf.score(Xtest, ytest)))\n",
    "    print('Feature Importances (Gradient Boosting): ' + str(clf.feature_importances_))\n",
    "    \n",
    "    \n",
    "def rfc2(data):\n",
    "    X, Xtest, y, ytest = train_test_split(data[['creation_source', 'opted_in_to_mailing_list', 'enabled_for_marketing_drip']], data.adopted.values, random_state=5, test_size = 0.2)\n",
    "    clf = RandomForestClassifier()\n",
    "    clf.fit(X, y)\n",
    "    print('Test score (Random Forest): ' + str(clf.score(Xtest, ytest)))\n",
    "    print('Feature Importances (Random Forest): ' + str(clf.feature_importances_))"
   ]
  },
  {
   "cell_type": "code",
   "execution_count": 20,
   "metadata": {},
   "outputs": [
    {
     "name": "stdout",
     "output_type": "stream",
     "text": [
      "Test score (Gradient Boosting): 0.8783333333333333\n",
      "Feature Importances (Gradient Boosting): [0.38561339 0.24158144 0.37280517]\n"
     ]
    }
   ],
   "source": [
    "gbc2(combined)"
   ]
  },
  {
   "cell_type": "code",
   "execution_count": 21,
   "metadata": {},
   "outputs": [
    {
     "name": "stdout",
     "output_type": "stream",
     "text": [
      "Test score (Random Forest): 0.8783333333333333\n",
      "Feature Importances (Random Forest): [0.87061214 0.07049104 0.05889682]\n"
     ]
    }
   ],
   "source": [
    "rfc2(combined)"
   ]
  },
  {
   "cell_type": "markdown",
   "metadata": {},
   "source": [
    "Because creation_source is important to both, we can create a piechart to see the distribution of the sources to get a better understanding of what source(s) is/are most prevalent."
   ]
  },
  {
   "cell_type": "code",
   "execution_count": 22,
   "metadata": {},
   "outputs": [],
   "source": [
    "import matplotlib.pyplot as plt"
   ]
  },
  {
   "cell_type": "code",
   "execution_count": 23,
   "metadata": {},
   "outputs": [],
   "source": [
    "#Create two dataframes to create\n",
    "combined2_adopted = combined2[combined2.adopted == 1]\n",
    "combined2_not_adopted = combined2[combined2.adopted == 0]"
   ]
  },
  {
   "cell_type": "code",
   "execution_count": 24,
   "metadata": {},
   "outputs": [
    {
     "data": {
      "text/plain": [
       "ORG_INVITE            491\n",
       "GUEST_INVITE          326\n",
       "SIGNUP                275\n",
       "SIGNUP_GOOGLE_AUTH    206\n",
       "PERSONAL_PROJECTS     147\n",
       "Name: creation_source, dtype: int64"
      ]
     },
     "execution_count": 24,
     "metadata": {},
     "output_type": "execute_result"
    }
   ],
   "source": [
    "#Find Counts of creation_source column\n",
    "\n",
    "combined2_adopted['creation_source'].value_counts()"
   ]
  },
  {
   "cell_type": "code",
   "execution_count": 25,
   "metadata": {},
   "outputs": [
    {
     "data": {
      "text/plain": [
       "ORG_INVITE            3763\n",
       "PERSONAL_PROJECTS     1964\n",
       "GUEST_INVITE          1837\n",
       "SIGNUP                1812\n",
       "SIGNUP_GOOGLE_AUTH    1179\n",
       "Name: creation_source, dtype: int64"
      ]
     },
     "execution_count": 25,
     "metadata": {},
     "output_type": "execute_result"
    }
   ],
   "source": [
    "#Find Counts of creation_source column\n",
    "\n",
    "combined2_not_adopted['creation_source'].value_counts()"
   ]
  },
  {
   "cell_type": "code",
   "execution_count": 26,
   "metadata": {},
   "outputs": [
    {
     "data": {
      "image/png": "[encoded data removed]",
      "text/plain": [
       "<matplotlib.figure.Figure at 0x10f12aac8>"
      ]
     },
     "metadata": {},
     "output_type": "display_data"
    }
   ],
   "source": [
    "#Piechart of adopted users by creation source\n",
    "\n",
    "labels = ['ORG_INVITE', 'GUEST_INVITE', 'SIGNUP', 'SIGNUP_GOOGLE_AUTH', 'PERSONAL_PROJECTS']\n",
    "count = [491, 326, 275, 206, 147]\n",
    "patches, texts = plt.pie(count, shadow=True, startangle=90)\n",
    "plt.legend(patches, labels, loc=\"best\")\n",
    "plt.axis('equal')\n",
    "plt.tight_layout()\n",
    "plt.show()"
   ]
  },
  {
   "cell_type": "code",
   "execution_count": 27,
   "metadata": {},
   "outputs": [
    {
     "data": {
      "image/png": "[encoded data removed]",
      "text/plain": [
       "<matplotlib.figure.Figure at 0x10f12a630>"
      ]
     },
     "metadata": {},
     "output_type": "display_data"
    }
   ],
   "source": [
    "#Piechart of not adopted users by creation source\n",
    "\n",
    "labels = ['ORG_INVITE', 'GUEST_INVITE', 'SIGNUP', 'SIGNUP_GOOGLE_AUTH', 'PERSONAL_PROJECTS']\n",
    "count = [3763, 1964, 1837, 1812, 1179]\n",
    "patches, texts = plt.pie(count, shadow=True, startangle=90)\n",
    "plt.legend(patches, labels, loc=\"best\")\n",
    "plt.axis('equal')\n",
    "plt.tight_layout()\n",
    "plt.show()"
   ]
  },
  {
   "cell_type": "markdown",
   "metadata": {},
   "source": [
    "Although there is not a very significant difference in the proportions of each, the one category, the two that stand out that are increased in the piechart of the adopted users is that GUEST_INVITE and SIGNUP are a little bigger, which may make sense because those channels are better for turning a completely new user to an adopted user."
   ]
  },
  {
   "cell_type": "code",
   "execution_count": null,
   "metadata": {},
   "outputs": [],
   "source": []
  }
 ],
 "metadata": {
  "kernelspec": {
   "display_name": "Python 3",
   "language": "python",
   "name": "python3"
  },
  "language_info": {
   "codemirror_mode": {
    "name": "ipython",
    "version": 3
   },
   "file_extension": ".py",
   "mimetype": "text/x-python",
   "name": "python",
   "nbconvert_exporter": "python",
   "pygments_lexer": "ipython3",
   "version": "3.6.4"
  }
 },
 "nbformat": 4,
 "nbformat_minor": 2
}
